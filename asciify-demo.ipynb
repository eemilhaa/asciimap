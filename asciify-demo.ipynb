{
 "cells": [
  {
   "cell_type": "code",
   "execution_count": 1,
   "metadata": {},
   "outputs": [],
   "source": [
    "import geopandas as gpd\n",
    "from asciify import asciify"
   ]
  },
  {
   "cell_type": "code",
   "execution_count": 2,
   "metadata": {},
   "outputs": [],
   "source": [
    "# Use natural earth polygons as example data\n",
    "world = gpd.read_file(\"./example-data/ne_50m_admin_0_countries.zip\")"
   ]
  },
  {
   "cell_type": "code",
   "execution_count": 3,
   "metadata": {},
   "outputs": [
    {
     "name": "stdout",
     "output_type": "stream",
     "text": [
      "                                                                                                    \n",
      "                ###  #  #      #############                        #         ####                  \n",
      "     ####### ##### ### ##  # ###    ########           ######      #### ######################### ##\n",
      "    #####################    #       ##             ### ########################################### \n",
      "              ####################              #      #################################      #     \n",
      "                 ###############                  #######################################           \n",
      "                ##############                  ###    ## ###### #####################   #          \n",
      "                  ##########                    ######      ########################                \n",
      "                   #####                      ############## ###   #################                \n",
      "                      ## #    ##              ############### ####     ###   ###                    \n",
      "                              #               ################# #       #      ##   #               \n",
      "                             #######                 ###########             ##   #                 \n",
      "                            ############             #########                 ## #   ####          \n",
      "                             ###########              ########                                      \n",
      "                               #########              #######  #                    #######         \n",
      "                               ######                  #####   #                  ###########       \n",
      "                               #####                    ###                        ### ######       \n",
      "                              ###                                                                  #\n",
      "                             ###                                                                 #  \n",
      "                               #                                                                    \n",
      "                                                                                                    \n",
      "                                                              ########  ###################         \n",
      "           ######################            ###################################################    \n",
      "        #########################  ##############################################################   \n"
     ]
    }
   ],
   "source": [
    "# asciify the world\n",
    "asciify(gdf=world)"
   ]
  },
  {
   "cell_type": "code",
   "execution_count": 4,
   "metadata": {},
   "outputs": [
    {
     "name": "stdout",
     "output_type": "stream",
     "text": [
      "                                                                                                    \n",
      "                                                                                                    \n",
      "                                                                                                    \n",
      "                                                                                                    \n",
      "                                                                                                    \n",
      "                                                                                                    \n",
      "                                                                                #  #                \n",
      "                                                                                     #              \n",
      "                                                                                #                   \n",
      "                                                                                                    \n",
      "                                            #                                                       \n",
      "                                           ####      #  ###                                         \n",
      "                         ####### ##############  #########     ##  # ##              ##             \n",
      "                     # #####################         #######   #####   #              #             \n",
      "                    #####################             ################ ##             ## ####       \n",
      "                  #######################               ###############                #   ###      \n",
      "                ################# #####   #             ####################           #    ###     \n",
      "               #################   # ##   ###       #  #######################   ## #       ####    \n",
      "              ##    ##########   ## ##    ####     #    #######################            ###### # \n",
      "              #     ##############     ######   #    # # #######################       #    #####   \n",
      "              ###   ##############   ######             ########################      # # # ######  \n",
      "              #             #  ##    #             #   ############################   ##  # ######  \n",
      "             #   #             #          #      #### ##############################   ##    #####  \n",
      "                                               ### ###############################       #   #####  \n",
      "             #                              #    #  #########################      ###   #   ####   \n",
      "             ###  #                        ##  ############# ################       #####    ####   \n",
      "         #######                            ############ ####  ##############                ###    \n",
      "         ########                         # ##### ####  #####################                ###    \n",
      "         #########                       ####     # # ###############      ####              ###    \n",
      "         #########                        # ####          ######  ###                         #     \n",
      "         ##########                     ##########  ##### ##########                          #     \n",
      "          ##########                 ######################  ######                                 \n",
      "          ##########                #########################  ##                                   \n",
      "          ############              ###############################                                 \n",
      "          ##############             #############################                                  \n",
      "         ################             ###########################                                   \n",
      "         ################                       ################                                    \n",
      "          #############                         ###############                                     \n",
      "          #########                              ###############    #                               \n",
      "           ##  #                                  ##############  ##                                \n",
      "            #                                    ############     #                                 \n",
      "             #                                    ###########                                       \n",
      "                                                   ########                                         \n",
      "                                                    ####                                            \n",
      "                                                                                                    \n",
      "                                                                                #                   \n",
      "                       #                                                 ######                     \n",
      "                         ##                                        # #######                        \n",
      "                          ####                            ###############                           \n",
      "                             ###    # ###############################                               \n",
      "                                 ###############################                                    \n"
     ]
    }
   ],
   "source": [
    "# Use a different projection\n",
    "asciify(gdf=world, crs=3035)"
   ]
  },
  {
   "cell_type": "code",
   "execution_count": 5,
   "metadata": {},
   "outputs": [
    {
     "name": "stdout",
     "output_type": "stream",
     "text": [
      "______________________________\n",
      "________________      ________\n",
      "_______________        _______\n",
      "____   ________       ________\n",
      "______  ___ __        ________\n",
      "________             _________\n",
      "__________             _______\n",
      "__________              ______\n",
      "__________              ______\n",
      "__________             _______\n",
      "__________             _______\n",
      "__________              ______\n",
      "__________               _____\n",
      "____________              ____\n",
      "______________           _____\n",
      "_____________            _____\n",
      "___________               ____\n",
      "__________                ____\n",
      "_________                  ___\n",
      "_______                   ____\n",
      "_____                       __\n",
      "___                           \n",
      "_                             \n",
      "_                             \n",
      "_                           __\n",
      "__                         ___\n",
      "__                       _____\n",
      "_                       ______\n",
      "_                     ________\n",
      "__                _ __________\n",
      "____ _      __________________\n"
     ]
    }
   ],
   "source": [
    "# asciify a single country\n",
    "# Select a country\n",
    "finland = world.loc[world['NAME_EN'] == 'Finland']\n",
    "\n",
    "# asciify and customize ascii size and symbols too\n",
    "asciify(\n",
    "    gdf=finland,\n",
    "    inside_symbol=\" \",\n",
    "    outside_symbol=\"_\",\n",
    "    width=30,\n",
    "    crs=3067\n",
    ")"
   ]
  },
  {
   "cell_type": "code",
   "execution_count": 6,
   "metadata": {},
   "outputs": [
    {
     "name": "stdout",
     "output_type": "stream",
     "text": [
      "~~~~~~~~~~~~~~~~~~~~~~~~~~~~~~~~~~~~~~~~~~~~~~~~~~~~~~~~~~~~~~~~~~~~~~~~~~~~~~~~~~~~~~~~~~~~~~~~~~~~\n",
      "~~~~~~~~~~~~~~~~~~~~~~~~~~~´´´´´~~~~~~~~~~~~~~~~~~~~~~~~~~~~~~~~~~~~~~~~~~~~~~~~~~~~~~~~~~~~~~~~~~~~\n",
      "~~~~~~~~~~~~~~~~~´~´´´~~~~~~~´´´´~~~~~~~~~~~~~~~~~~~~~~~~~~~~~~~~~~~~~~~~~~~~~~~~~~~~~~~~~~~~~~~~~~~\n",
      "~~~~~~~~~~~~~~~~~´´~´´´~~~´´´´´´´´~~~~~~~~~~~~~~~~~~~~~~~~~~~~~~~~~~~~~~~~~~~~~~~~~~~~~~~~~~~~~~~~~~\n",
      "~~~~~~~~~~~~~~´´~´´´´´´~~~~´´´´´´´´~~~~~~~~~~~~~~~~~~~~~~~~~~~~~~~~~~~~~~~~~~~~~~~~~~~~~~~~~~~~~~~~~\n",
      "~~~~~~~~~~~´´~´´´´´´´´´´´´~~´´´´´´´~~~~~~~~~~~~~~~~~~~~~~~~~~~~~~~~~~~~~~~~~~~~~~~~~~~~~~~~~~~~~~~~~\n",
      "~~~~~´´´´~´´´´~~~´´´´´´´´~~´´´´´´´´~~~~~~~~~~~~~~~~~~~~~~~~~~~~~~~~~~~~~~~~~~~~~~~~~~~~~~~~~~~~~~~~~\n",
      "~~~~~~~´´´´´´´´´´´´´´´´´´´´´´´´´´´´´~~~~~~~~~~~~~~~~~~~~~~~~~~~~~~~~~~~~~~~~~~~~~~~~~~~~~~~~~~~~~~~~\n",
      "~~~~~~~~´´´´´´´´´´´´´´´´´´´´´´´´´´´~~~~~~~~~~~~~~~~~~~~~~~~~~~~~~~~~~~~~~~~~~~~~~~~~~~~~~~~~~~~~~~~~\n",
      "~~~~~~~~~~~~~~~~~~~´´´´´´´´´´´´´´´´´~~~~~~~~~~~~~~~~~~~~~~~~~~~~~~~~~~~~~~~~~~~~~~~~~~~~~~~~~~~~~~~~\n",
      "~~~~~~~~~~~~~~~~~~~~~~´´´´´´´´´´´´~~~~~~~~~~~´´´´~~~~~~~~~~~~~~~~~~~~~~~~~~~~~~~~~~~~~~~~~~~~~~~~~~~\n",
      "~~~~~~~~~~~~~~~~~~~~~~~´´´´´´´´~~~~~~~~~~~~~´´´´´~~~~~~~~~´´~~~~~~~~~~~~~~~~~~~~~~~~~~~~~~~~~~~~~~~~\n",
      "~~~~~~~~~~~~~~~~~~~~~~~~~~´´´´´~~~~~~~~~~~~´´´´´´~~~~´´´´´´´´~~~~~~~~~~~~~~~~~~~~~~~~~~~~~~~~~~~~~~~\n",
      "~~~~~~~~~~~~~~~~~~~~~~´´´´´´´´´~~~~~´´´~~~´´´´´´´~~~´´´´´´´´´~~~´´´´~~~~~~~~~~~~~~~´´´´´~~~~~~~~~~~~\n",
      "~´´´´´~~~~~~~~~~~~´´´´´´´´´´´´´~~~´´´´´~´´´´´´´´´´~´´´´´´´´´´~~~´´´´´~~~~~~´~~~~~~´´´´´´´~~~~~~~~~~~\n",
      "~´´´´´´´´´´´´´~~~~~~´´´´´´´´´´´~´´´´´´´´´´´´´´´´´´´´´´´´´´´´´´~´´´´´´~~~´´´´´~~~~´´´´´´´´~~~~~~~~~~~\n",
      "~~~~~~~´´´´´´´´´´´´~~~~´´´´´´´´´´´´´´´´´´´´´´´´´´´´´´´´´´´´´´´~´´´´´´´´´´´´´´´´´´´´´´´´´´~~~~~~~´~~~\n",
      "~~~~~~~~~~´´´´´´´´´´´´´´´´´´´´´´´´´´´´´´´´´´´´´´´´´´´´´´´´´´´´´´´´´´´´´´´´´´´´´´´´´´´´´´´´´´´´´~~~~~\n",
      "~~~~~~~~~~~~~~´´´´´´´´´´´´´´´´´´´´´´´´´´´´´´´´´´´´´´´´´´´´´´´´´´´´´´´´´´´´´´´´´´´´´´´´´´´´´´´~~~~~~~\n",
      "~~~~~~~~~~~~~~´´´´´´´´´´´´´´´´´´´´´´´´´´´´´´´´´´´´´´´´´´´´´´´´´´´´´´´´´´´´´´´´´´´´´´´´´´´´´´´~~~~~~~\n",
      "~~~~~~~~~~~~~´´´´´´´´´´´´´´´´´´´´´´´´´´´´´´´´´´´´´´´´´´´´´´´´´´´´´´´´´´´´´´´´´´´´´´´´´´´´´´´´´´~~~~~\n",
      "~~~~~~~~~~~~~´´´´´´´´´´´´´´´´´´´´´´´´´´´´´´´´´´´´´´´´´´´´´´´´´´´´´´´´´´´´´´´´´´´´´´´´´´´´´´´´´´~~~~~\n",
      "~~~~~~~~~~~~~~~´´´´´´´´´´´´´´´´´´´´´´´´´´´´´´´´´´´´´´´´´´´´´´´´´´´´´´´´´´´´´´´´´´´´´´´´´´´´´´~~~~~~~\n",
      "~~~~~~~~~~~~~´´´´´´´´´´´´´´´´´´´´´´´´´´´´´´´´´´´´´´´´´´´´´´´´´´´´´´´´´´´´´´´´´´´´´´´´´´´´´´´´´´~~~~~\n",
      "~~~~~~~~~~~~´´~~~´´´´´´´´´´´´´´´´´´´´´´´´´´´´´´´´´´´´´´´´´´´´´´´´´´´´´´´´´´´´´´´´´´´´´´´´´´´´´´~~~~~\n",
      "~~~´~~~~~~~~~´´´´´´´´´´´´´´´´´´´´´´´´´´´´´´´´´´´´´´´´´´´´´´´´´´´´´´´´´´´´´´´´´´´´´´´´´´´´´´´´´~~~~~~\n",
      "~~´´~~~~~~´´´´´´´´´´´´´´´´´´´´´´´´´´´´´´´´´´´´´´´´´´´´´´´´´´´´´´´´´´´´´´´´´´´´´´´´´´´´´´´´´´´´´´´´´~\n",
      "~´´´´´´´´´´´´´´´´´´´´´´´´´´´´´´´´´´´´´´´´´´´´´´´´´´´´´´´´´´´´´´´´´´´´´´´´´´´´´´´´´´´´´´´´´´´´´´´´´´´\n",
      "~~~~´´´´´´´´´´´´´´´´´´´´´´´´´´´´´´´´´´´´´´´´´´´´´´´´´´´´´´´´´´´´´´´´´´´´´´´´´´´´´´´´´´´´´´´´´´´´´´´´\n",
      "~~~~~~~~´´´´´´´´´´´´´´´´´´´´´´´´´´´´´´´´´´´´´´´´´´´´´´´´´´´´´´´´´´´´´´´´´´´´´´´´´´´´´´´´´´´´´´´´´~~~\n",
      "~~~~~~~~~~~~~~~~´´´´´´´´´´´´´´´´´´´´´´´´´´´´´´´´´´´´´´´´´´´´´´´´´´´´´´´´´´´´´´´´´´´´´´´´´´´´´´´´´´~~\n",
      "~~~~~~~~~~~~~~~~´´´´´´´´´´´´´´´´´´´´´´´´´´´´´´´´´´´´´´´´´´´´´´´´´´´´´´´´´´´´´´´´´´´´´´´´´´´´´´´´´~~~\n",
      "~~~~~~~~~~~~~~~~~~´´´´´´´´´´´´´´´´´´´´´´´´´´´´´´´´´´´´´´´´´´´´´´´´´´´´´´´´´´´´´´´´´´´´´´´´´´´´´´´´~~\n",
      "~~~~~~~~~~~~~~~~~~´´~´´´´´´´´´´´´´´´´´´´´´´´´´´´´´´´´´´´´´´´´´´´´´´´´´´´´´´´´´´´´´´´´´´´´´´´´´~~~~~~\n",
      "~~~~~~~~~~~~~~~~~~~´´´´´´´´´´´´´´´´´´´´´´´´´´´´´´´´´´´´´´´´´´´´´´´´´´´´´´´´´´´´´´´´´´´´´´´´´´~~~~~~~\n",
      "~~~~~~~~~~~~~~~~~~~~´´´´´´´´´´´´´´´´´´´´´´´´´´´´´´´´´´´´´´´´´´´´´´´´´´´´´´´´´´´´´´´´´´~~´´~~~~~~~~~~\n",
      "~~~~~~~~~~~~~~~~~~~~~´´´´´´´´´´´´´´´´´´´´´´´´´´´´´´´´´´´´´´´´´´´´´´´´´´´´´´´´´´´´´´´´~~~~~~~~~~~~~~~\n",
      "~~~~~~~~~~~~~~~~~~~~~~~~´´´´´´´´´´´´´´´´´´´´´´´´´´´´´´´´´´´´´´´´´´´´´´´´´´´´´´´´´´´´~~~~~~~~~~~~~~~~\n",
      "~~~~~~~~~~~~~~~~~~~~~~~~~~´´´´´´´´´´´´´´´´´´´´´´´´´´´´´´´´´´´´´´´´´´´~~~~~~´´´´~~~~~~~~~~~~~~~~~~~~~\n",
      "~~~~~~~~~~~~~~~~~~~~~~~~~~~~´´´´´´´´´´´´´´´´´´´´´´´´´´´´´´´´´´~~~~~~~~~~~~~~~~~~~~~~~~~~~~~~~~~~~~~~\n",
      "~~~~~~~~~~~~~~~~~~~~~~~~~~~~~~~´´´´´´´´´´´´~~~~~~~~~~~~~~~~~~~~~~~~~~~~~~~~~~~~~~~~~~~~~~~~~~~~~~~~~\n"
     ]
    }
   ],
   "source": [
    "# Another example\n",
    "iceland = world.loc[world['NAME_EN'] == 'Iceland']\n",
    "\n",
    "asciify(iceland, \"´\", \"~\", 100, 5638)"
   ]
  },
  {
   "cell_type": "code",
   "execution_count": 7,
   "metadata": {},
   "outputs": [
    {
     "name": "stdout",
     "output_type": "stream",
     "text": [
      "                                                                                                                                                      \n",
      "                                CC   CCCCCCC  GGGGGGGGGGGGGGGGGGGGG             NNNN                                 RR                               \n",
      "                        CCC       C CC              GGGGGGGGGGGGGGG                               RR            RRRRRRRRRR                            \n",
      "       UUUUUUUUUUC CCCCCCC  CCC C C CC  CC  CCC       GGGGGGGGGGG                  NFNFFRRR          RR RR RRRRRRRRRRRRRRRRRRRRRRRRRRRRRRRRRRRRRRR RRR\n",
      "        UUUUUUUUUCCCCCCCCCCCCCCCCCCCCCC C  C CCC      GGGGG       III           NSSS FFFRR RRRRRRRRRRRRRRRRRRRRRRRRRRRRRRRRRRRRRRRRRRRRRRRRRRRRRRRRRRR\n",
      "        UUU U    UCCCCCCCCCCCCCCCCCC       CCC  C                             NNSSS   ERRRRRRRRRRRRRRRRRRRRRRRRRRRRRRRRRRRRRRRRRRRRRRRRRR  R  RR      \n",
      "                     CCCCCCCCCCCCCCCCCCCC CCCCCCCCC                     U U    G    RLBBRRRRRRRRRRRRRRRKKRRRRRRRRRRRRRRRRRRRRRRRRRRR        RRR       \n",
      "                        CCCCCCCCCCCCCCCCCCCCCCCC   C                        FFGGGCCPPUUUUUUURRRKKKKKKKKKKKKKKKKRRMMMMMMMRRRMRPPPPRRRRR R              \n",
      "                        UUUUUUUUUUUUUUUUUCCCCCUUCC                         FFFIIICBSRRRR R RRRR  KKUKKKKKKKKKPPPPPMMMMMMMMMPPPPPPPRR                  \n",
      "                        UUUUUUUUUUUUUUUUUUUUU                           PSSS   I    G TTTTTTTTAA TTTTTUUTKKPPPPPPPPPPPPPPPPPPPPNN     J               \n",
      "                         UUUUUUUUUUUUUUUUUUU                               AAAAT     G    SSSIIIIIIIITAAAPPPPPPPPPPPPPPPPPPPP   S  JJJ                \n",
      "                           MMMMMUUUUUUUUUU                             MMMAAAAATLLL LLEEEEJSSIIIIIIIIAAPPPIIIPPPPPPPPPPPPPPPPP                        \n",
      "                              MMMMM                                  MMMMAAAAAAALLLLLLEEEE SSSSS    IPPPPIIIIIIIBIIMMPPPPPPPP                         \n",
      "                                MMM   M    C                         MMMMMMMAAANNNCCLLSSSSS SSSSSSSO      IIIIII  MMMLVV                              \n",
      "                                   MMM                               SMMMMMMMNNNNNCCCSSSSSSE YYYY         III       MTTLV    P                        \n",
      "                                        N    VV                      GGGMBBBBNNNNCCCCSSSSSEEES  S          II         CCV     PP                      \n",
      "                                           CCCVVVVG                    LIIGGBNNCCCCCCCSSSSEEEEES             S       T      M  P                      \n",
      "                                           CCCBBVBBBBBB                         GRRDDDDDUUKKKS                       I   MMII                         \n",
      "                                          EPPPBBBBBBBBBBBBB                     RRDDDDDDTTTK                          III II I   I IIIP               \n",
      "                                           PPBBBBBBBBBBBBBBBB                    AAAADDDTTTT                             II          IP P             \n",
      "                                            PPPBBBBBBBBBBBBB                     AAAAZZDZMMM                                      AA                  \n",
      "                                              CBBBBBBBBBBBB                     NNNAANZZZMM   MM                              AAAAAAAAAA             F\n",
      "                                              CBAAPPBBBBBB                        NNBBBBSM    M                            AAAAAAAAAAAAAAA            \n",
      "                                              CAAAAPABB                           NNSSSSS                                  AAAAAAAAAAAAAAAA           \n",
      "                                              AAAAAUUB                             SSSSS                                    AAAAA  AAAAAAAA           \n",
      "                                             CAAAAAA                                                                                  AAAA            \n",
      "                                             CAA                                                                                        A          N  \n",
      "                                            CCA                                                                                                       \n",
      "                                             AA   F                                                                                                   \n",
      "                                                                                                                                                      \n",
      "                                                                                                                                                      \n",
      "                                                 A                                                                        A                           \n",
      "                                            A AAAA                           AAAAAA AA AAAAAAAAAAAAAAAAA AAAAAAAAAAAAAAAAAAAAAAAAAAAAAAAAAAAAAAAA     \n",
      "                 AAAAAAAAAAAAAAAAAAAAAAAAAAAAAAAA                  AAAAAAAAAAAAAAAAAAAAAAAAAAAAAAAAAAAAAAAAAAAAAAAAAAAAAAAAAAAAAAAAAAAAAAAAAAAA       \n",
      "             AAAAAAAAAAAAAAAAAAAAAAAAAAAAAAA      A  AAAA      AAAAAAAAAAAAAAAAAAAAAAAAAAAAAAAAAAAAAAAAAAAAAAAAAAAAAAAAAAAAAAAAAAAAAAAAAAAAAAA        \n",
      "AAAAAAAAAAAAAAAAAAAAAAAAAAAAAAAAAAAAAAAAAAAAAAAAAAAAAAAAAAAAAAAAAAAAAAAAAAAAAAAAAAAAAAAAAAAAAAAAAAAAAAAAAAAAAAAAAAAAAAAAAAAAAAAAAAAAAAAAAAAAAAAAAAAAAA\n"
     ]
    }
   ],
   "source": [
    "# The symbol assignment can be as complex as you like\n",
    "\n",
    "# Here the symbols are assigned based on the first letter of the name of the country they fall upon\n",
    "asciify(\n",
    "    gdf=world,\n",
    "    inside_symbol=world['NAME_EN'].str[0],\n",
    "    width=150\n",
    ")"
   ]
  },
  {
   "cell_type": "code",
   "execution_count": 8,
   "metadata": {},
   "outputs": [],
   "source": [
    "# How about an ascii choropleth map?\n",
    "\n",
    "# classify data\n",
    "import mapclassify\n",
    "column = 'POP_EST'\n",
    "bins = mapclassify.NaturalBreaks(world[column], k=5).bins"
   ]
  },
  {
   "cell_type": "code",
   "execution_count": 9,
   "metadata": {},
   "outputs": [],
   "source": [
    "# Assign symbols using the bins\n",
    "for i, r in world.iterrows():\n",
    "    if world[column][i] <= bins[0]:\n",
    "        world.at[i, 'custom_char'] = '.'\n",
    "    elif world[column][i] <= bins[1]:\n",
    "        world.at[i, 'custom_char'] = ':'\n",
    "    elif world[column][i] <= bins[2]:\n",
    "        world.at[i, 'custom_char'] = 'i'\n",
    "    elif world[column][i] <= bins[3]:\n",
    "        world.at[i, 'custom_char'] = 'I'\n",
    "    elif world[column][i] <= bins[4]:\n",
    "        world.at[i, 'custom_char'] = '#'"
   ]
  },
  {
   "cell_type": "code",
   "execution_count": 10,
   "metadata": {},
   "outputs": [
    {
     "name": "stdout",
     "output_type": "stream",
     "text": [
      "                                                                                                                                                      \n",
      "                                ::   :::::::  .....................             ....                                 ii                               \n",
      "                        :::       : ::              ...............                               ii            iiiiiiiiii                            \n",
      "       IIIIIIIIII: :::::::  ::: : : ::  ::  :::       ...........                  .....iii          ii ii iiiiiiiiiiiiiiiiiiiiiiiiiiiiiiiiiiiiiii iii\n",
      "        IIIIIIIII:::::::::::::::::::::: :  : :::      .....       ...           .... ...ii iiiiiiiiiiiiiiiiiiiiiiiiiiiiiiiiiiiiiiiiiiiiiiiiiiiiiiiiiii\n",
      "        III I    I::::::::::::::::::       :::  :                             .....   .iiiiiiiiiiiiiiiiiiiiiiiiiiiiiiiiiiiiiiiiiiiiiiiiii  i  ii      \n",
      "                     :::::::::::::::::::: :::::::::                     : :    i    i...iiiiiiiiiiiiiii..iiiiiiiiiiiiiiiiiiiiiiiiiii        iii       \n",
      "                        ::::::::::::::::::::::::   :                        ::iii..:::::::::iii................ii.......iii.i####iiiii i              \n",
      "                        IIIIIIIIIIIIIIIII:::::II::                         ::::::...:::: i iiii  ..:.........#####.........#######ii                  \n",
      "                        IIIIIIIIIIIIIIIIIIIII                           .:::   :    . iiiiiiii.. .....::...####################::     i               \n",
      "                         IIIIIIIIIIIIIIIIIII                               ::::.     .    ...::iiiiii.:::III#################   :  iii                \n",
      "                           iiiiiIIIIIIIIII                             ::::::::.... ..iiii.:::::iiiii::III####################                        \n",
      "                              iiiii                                  :...:::::::......iiii :::::    iIIII#######i##::########                         \n",
      "                                iii   i    .                         .......:::.......::::: :::::::.      ######  :::.ii                              \n",
      "                                   iii                               ................::::::. ::::         ###       :::.i    i                        \n",
      "                                        .    ::                      ........IIII:...:::::iii.  .          ##         ..i     ii                      \n",
      "                                           :::::::.                    .::::.II:::........iiiii.             :       :      :  i                      \n",
      "                                           :::II:IIIIII                         ...iiiii:::::.                       I   ::II                         \n",
      "                                          .:::IIIIIIIIIIIII                     ..iiiiii::::                          III II I   I III.               \n",
      "                                           ::IIIIIIIIIIIIIIII                    ::::iii::::                             II          I. .             \n",
      "                                            :::..IIIIIIIIIII                     ::::..i..::                                      ::                  \n",
      "                                              .....IIIIIIII                     ...::....::   ::                              ::::::::::             .\n",
      "                                              ..::..IIIIII                        ......::    :                            :::::::::::::::            \n",
      "                                              .::::.:II                           ..:::::                                  ::::::::::::::::           \n",
      "                                              :::::..I                             :::::                                    :::::  ::::::::           \n",
      "                                             .::::::                                                                                  ::::            \n",
      "                                             .::                                                                                        :          .  \n",
      "                                            ..:                                                                                                       \n",
      "                                             ::   .                                                                                                   \n",
      "                                                                                                                                                      \n",
      "                                                                                                                                                      \n",
      "                                                 .                                                                        .                           \n",
      "                                            . ....                           ...... .. ................. ........................................     \n",
      "                 ................................                  ............................................................................       \n",
      "             ...............................      .  ....      ...............................................................................        \n",
      "......................................................................................................................................................\n"
     ]
    }
   ],
   "source": [
    "# Plot the ascii population map\n",
    "asciify(\n",
    "    gdf=world,\n",
    "    inside_symbol=world['custom_char'].str[0],\n",
    "    width=150\n",
    ")"
   ]
  },
  {
   "cell_type": "code",
   "execution_count": null,
   "metadata": {},
   "outputs": [],
   "source": []
  }
 ],
 "metadata": {
  "interpreter": {
   "hash": "8ca89e694732adbb65a1bf07e4d581983d04095fdfa53971460829b97a87309a"
  },
  "kernelspec": {
   "display_name": "Python 3 (ipykernel)",
   "language": "python",
   "name": "python3"
  },
  "language_info": {
   "codemirror_mode": {
    "name": "ipython",
    "version": 3
   },
   "file_extension": ".py",
   "mimetype": "text/x-python",
   "name": "python",
   "nbconvert_exporter": "python",
   "pygments_lexer": "ipython3",
   "version": "3.9.7"
  }
 },
 "nbformat": 4,
 "nbformat_minor": 4
}
